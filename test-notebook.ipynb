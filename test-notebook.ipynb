{
  "nbformat": 4,
  "nbformat_minor": 0,
  "metadata": {
    "colab": {
      "provenance": [],
      "toc_visible": true
    },
    "kernelspec": {
      "name": "python3",
      "display_name": "Python 3"
    }
  },
  "cells": [
    {
      "cell_type": "markdown",
      "metadata": {
        "id": "BDKOI7WQj4mw"
      },
      "source": [
        "classification with tensorflow 2.0"
      ]
    },
    {
      "cell_type": "code",
      "metadata": {
        "id": "THtLIdfMa18o"
      },
      "source": [
        "import pandas as pd\n",
        "import numpy as np\n",
        "import tensorflow as tf\n",
        "\n",
        "import matplotlib.pyplot as plt\n",
        "%matplotlib inline\n",
        "\n",
        "import seaborn as sns\n",
        "sns.set(style=\"darkgrid\")"
      ],
      "execution_count": null,
      "outputs": []
    },
    {
      "cell_type": "code",
      "metadata": {
        "colab": {
          "base_uri": "https://localhost:8080/"
        },
        "id": "GdivByRca_MY",
        "outputId": "fd91e1f2-3119-478c-9742-0a51f5a092b1"
      },
      "source": [
        "print(tf.__version__)"
      ],
      "execution_count": null,
      "outputs": [
        {
          "output_type": "stream",
          "name": "stdout",
          "text": [
            "2.11.0\n"
          ]
        }
      ]
    },
    {
      "cell_type": "code",
      "metadata": {
        "id": "btKNFZ-nbEJW"
      },
      "source": [
        "import pandas as pd\n",
        "df= pd.read_csv('./final_analysis - Sheet1 - final_analysis - Sheet1.csv')"
      ],
      "execution_count": null,
      "outputs": []
    },
    {
      "cell_type": "code",
      "metadata": {
        "colab": {
          "base_uri": "https://localhost:8080/",
          "height": 206
        },
        "id": "aVRJXuuebQ8T",
        "outputId": "74af038b-75b9-4847-d32b-2f031fc5012e"
      },
      "source": [
        "df.head()"
      ],
      "execution_count": null,
      "outputs": [
        {
          "output_type": "execute_result",
          "data": {
            "text/plain": [
              "   gender N1  N2  N5  N6  N8  N9  N10  A9  C9  lack_of_concentration  \\\n",
              "0       1  1   5   1   1   1   1    1   4   4                      0   \n",
              "1       2  2   3   3   4   2   2    4   4   4                      0   \n",
              "2       2  5   1   5   5   5   5    5   5   5                      1   \n",
              "3       2  5   4   4   5   5   4    5   4   2                      1   \n",
              "4       2  3   3   3   3   3   3    4   5   3                      0   \n",
              "\n",
              "   tiredness  sleep_hour  Mood_prediction  \n",
              "0          0           0                1  \n",
              "1          0           0                0  \n",
              "2          1           1                0  \n",
              "3          1           1                0  \n",
              "4          0           0                0  "
            ],
            "text/html": [
              "\n",
              "  <div id=\"df-432caf4a-d68c-4f63-8858-864b88aceb9e\">\n",
              "    <div class=\"colab-df-container\">\n",
              "      <div>\n",
              "<style scoped>\n",
              "    .dataframe tbody tr th:only-of-type {\n",
              "        vertical-align: middle;\n",
              "    }\n",
              "\n",
              "    .dataframe tbody tr th {\n",
              "        vertical-align: top;\n",
              "    }\n",
              "\n",
              "    .dataframe thead th {\n",
              "        text-align: right;\n",
              "    }\n",
              "</style>\n",
              "<table border=\"1\" class=\"dataframe\">\n",
              "  <thead>\n",
              "    <tr style=\"text-align: right;\">\n",
              "      <th></th>\n",
              "      <th>gender</th>\n",
              "      <th>N1</th>\n",
              "      <th>N2</th>\n",
              "      <th>N5</th>\n",
              "      <th>N6</th>\n",
              "      <th>N8</th>\n",
              "      <th>N9</th>\n",
              "      <th>N10</th>\n",
              "      <th>A9</th>\n",
              "      <th>C9</th>\n",
              "      <th>lack_of_concentration</th>\n",
              "      <th>tiredness</th>\n",
              "      <th>sleep_hour</th>\n",
              "      <th>Mood_prediction</th>\n",
              "    </tr>\n",
              "  </thead>\n",
              "  <tbody>\n",
              "    <tr>\n",
              "      <th>0</th>\n",
              "      <td>1</td>\n",
              "      <td>1</td>\n",
              "      <td>5</td>\n",
              "      <td>1</td>\n",
              "      <td>1</td>\n",
              "      <td>1</td>\n",
              "      <td>1</td>\n",
              "      <td>1</td>\n",
              "      <td>4</td>\n",
              "      <td>4</td>\n",
              "      <td>0</td>\n",
              "      <td>0</td>\n",
              "      <td>0</td>\n",
              "      <td>1</td>\n",
              "    </tr>\n",
              "    <tr>\n",
              "      <th>1</th>\n",
              "      <td>2</td>\n",
              "      <td>2</td>\n",
              "      <td>3</td>\n",
              "      <td>3</td>\n",
              "      <td>4</td>\n",
              "      <td>2</td>\n",
              "      <td>2</td>\n",
              "      <td>4</td>\n",
              "      <td>4</td>\n",
              "      <td>4</td>\n",
              "      <td>0</td>\n",
              "      <td>0</td>\n",
              "      <td>0</td>\n",
              "      <td>0</td>\n",
              "    </tr>\n",
              "    <tr>\n",
              "      <th>2</th>\n",
              "      <td>2</td>\n",
              "      <td>5</td>\n",
              "      <td>1</td>\n",
              "      <td>5</td>\n",
              "      <td>5</td>\n",
              "      <td>5</td>\n",
              "      <td>5</td>\n",
              "      <td>5</td>\n",
              "      <td>5</td>\n",
              "      <td>5</td>\n",
              "      <td>1</td>\n",
              "      <td>1</td>\n",
              "      <td>1</td>\n",
              "      <td>0</td>\n",
              "    </tr>\n",
              "    <tr>\n",
              "      <th>3</th>\n",
              "      <td>2</td>\n",
              "      <td>5</td>\n",
              "      <td>4</td>\n",
              "      <td>4</td>\n",
              "      <td>5</td>\n",
              "      <td>5</td>\n",
              "      <td>4</td>\n",
              "      <td>5</td>\n",
              "      <td>4</td>\n",
              "      <td>2</td>\n",
              "      <td>1</td>\n",
              "      <td>1</td>\n",
              "      <td>1</td>\n",
              "      <td>0</td>\n",
              "    </tr>\n",
              "    <tr>\n",
              "      <th>4</th>\n",
              "      <td>2</td>\n",
              "      <td>3</td>\n",
              "      <td>3</td>\n",
              "      <td>3</td>\n",
              "      <td>3</td>\n",
              "      <td>3</td>\n",
              "      <td>3</td>\n",
              "      <td>4</td>\n",
              "      <td>5</td>\n",
              "      <td>3</td>\n",
              "      <td>0</td>\n",
              "      <td>0</td>\n",
              "      <td>0</td>\n",
              "      <td>0</td>\n",
              "    </tr>\n",
              "  </tbody>\n",
              "</table>\n",
              "</div>\n",
              "      <button class=\"colab-df-convert\" onclick=\"convertToInteractive('df-432caf4a-d68c-4f63-8858-864b88aceb9e')\"\n",
              "              title=\"Convert this dataframe to an interactive table.\"\n",
              "              style=\"display:none;\">\n",
              "        \n",
              "  <svg xmlns=\"http://www.w3.org/2000/svg\" height=\"24px\"viewBox=\"0 0 24 24\"\n",
              "       width=\"24px\">\n",
              "    <path d=\"M0 0h24v24H0V0z\" fill=\"none\"/>\n",
              "    <path d=\"M18.56 5.44l.94 2.06.94-2.06 2.06-.94-2.06-.94-.94-2.06-.94 2.06-2.06.94zm-11 1L8.5 8.5l.94-2.06 2.06-.94-2.06-.94L8.5 2.5l-.94 2.06-2.06.94zm10 10l.94 2.06.94-2.06 2.06-.94-2.06-.94-.94-2.06-.94 2.06-2.06.94z\"/><path d=\"M17.41 7.96l-1.37-1.37c-.4-.4-.92-.59-1.43-.59-.52 0-1.04.2-1.43.59L10.3 9.45l-7.72 7.72c-.78.78-.78 2.05 0 2.83L4 21.41c.39.39.9.59 1.41.59.51 0 1.02-.2 1.41-.59l7.78-7.78 2.81-2.81c.8-.78.8-2.07 0-2.86zM5.41 20L4 18.59l7.72-7.72 1.47 1.35L5.41 20z\"/>\n",
              "  </svg>\n",
              "      </button>\n",
              "      \n",
              "  <style>\n",
              "    .colab-df-container {\n",
              "      display:flex;\n",
              "      flex-wrap:wrap;\n",
              "      gap: 12px;\n",
              "    }\n",
              "\n",
              "    .colab-df-convert {\n",
              "      background-color: #E8F0FE;\n",
              "      border: none;\n",
              "      border-radius: 50%;\n",
              "      cursor: pointer;\n",
              "      display: none;\n",
              "      fill: #1967D2;\n",
              "      height: 32px;\n",
              "      padding: 0 0 0 0;\n",
              "      width: 32px;\n",
              "    }\n",
              "\n",
              "    .colab-df-convert:hover {\n",
              "      background-color: #E2EBFA;\n",
              "      box-shadow: 0px 1px 2px rgba(60, 64, 67, 0.3), 0px 1px 3px 1px rgba(60, 64, 67, 0.15);\n",
              "      fill: #174EA6;\n",
              "    }\n",
              "\n",
              "    [theme=dark] .colab-df-convert {\n",
              "      background-color: #3B4455;\n",
              "      fill: #D2E3FC;\n",
              "    }\n",
              "\n",
              "    [theme=dark] .colab-df-convert:hover {\n",
              "      background-color: #434B5C;\n",
              "      box-shadow: 0px 1px 3px 1px rgba(0, 0, 0, 0.15);\n",
              "      filter: drop-shadow(0px 1px 2px rgba(0, 0, 0, 0.3));\n",
              "      fill: #FFFFFF;\n",
              "    }\n",
              "  </style>\n",
              "\n",
              "      <script>\n",
              "        const buttonEl =\n",
              "          document.querySelector('#df-432caf4a-d68c-4f63-8858-864b88aceb9e button.colab-df-convert');\n",
              "        buttonEl.style.display =\n",
              "          google.colab.kernel.accessAllowed ? 'block' : 'none';\n",
              "\n",
              "        async function convertToInteractive(key) {\n",
              "          const element = document.querySelector('#df-432caf4a-d68c-4f63-8858-864b88aceb9e');\n",
              "          const dataTable =\n",
              "            await google.colab.kernel.invokeFunction('convertToInteractive',\n",
              "                                                     [key], {});\n",
              "          if (!dataTable) return;\n",
              "\n",
              "          const docLinkHtml = 'Like what you see? Visit the ' +\n",
              "            '<a target=\"_blank\" href=https://colab.research.google.com/notebooks/data_table.ipynb>data table notebook</a>'\n",
              "            + ' to learn more about interactive tables.';\n",
              "          element.innerHTML = '';\n",
              "          dataTable['output_type'] = 'display_data';\n",
              "          await google.colab.output.renderOutput(dataTable, element);\n",
              "          const docLink = document.createElement('div');\n",
              "          docLink.innerHTML = docLinkHtml;\n",
              "          element.appendChild(docLink);\n",
              "        }\n",
              "      </script>\n",
              "    </div>\n",
              "  </div>\n",
              "  "
            ]
          },
          "metadata": {},
          "execution_count": 4
        }
      ]
    },
    {
      "cell_type": "code",
      "metadata": {
        "id": "kI8e7JpgbVeB"
      },
      "source": [
        "plot_size = plt.rcParams[\"figure.figsize\"]\n",
        "plot_size [0] = 8\n",
        "plot_size [1] = 6\n",
        "plt.rcParams[\"figure.figsize\"] = plot_size"
      ],
      "execution_count": null,
      "outputs": []
    },
    {
      "cell_type": "code",
      "metadata": {
        "colab": {
          "base_uri": "https://localhost:8080/",
          "height": 517
        },
        "id": "3zsLh3G3ba-u",
        "outputId": "9f4f4e65-d1f3-461e-f0eb-e5630c44457b"
      },
      "source": [
        "df.Mood_prediction.value_counts().plot(kind='pie', autopct='%0.05f%%', colors=['lightblue', 'lightgreen', 'orange', 'pink'], explode=(0.05, 0.05))"
      ],
      "execution_count": null,
      "outputs": [
        {
          "output_type": "execute_result",
          "data": {
            "text/plain": [
              "<Axes: ylabel='Mood_prediction'>"
            ]
          },
          "metadata": {},
          "execution_count": 6
        },
        {
          "output_type": "display_data",
          "data": {
            "text/plain": [
              "<Figure size 800x600 with 1 Axes>"
            ],
            "image/png": "[encoded data removed]"
          },
          "metadata": {}
        }
      ]
    },
    {
      "cell_type": "code",
      "metadata": {
        "id": "3d7nLmJUcltb"
      },
      "source": [
        "gender = pd.get_dummies(df.gender, prefix='gender')\n",
        "N1 = pd.get_dummies(df.N1, prefix='N1')\n",
        "N2 = pd.get_dummies(df.N2, prefix='N2')\n",
        "N5 = pd.get_dummies(df.N5, prefix='N5')\n",
        "N6 = pd.get_dummies(df.N6, prefix='N6')\n",
        "N8 = pd.get_dummies(df.N8, prefix='N8')\n",
        "N9 = pd.get_dummies(df.N9, prefix='N9')\n",
        "N10 = pd.get_dummies(df.N10, prefix='N10')\n",
        "A9 = pd.get_dummies(df.A9, prefix='A9')\n",
        "C9 = pd.get_dummies(df.C9, prefix='C9')\n",
        "N10 = pd.get_dummies(df.N10, prefix='N10')\n",
        "concentration = pd.get_dummies(df.lack_of_concentration, prefix='concentration')\n",
        "tiredeness = pd.get_dummies(df.tiredness, prefix='tiredness')\n",
        "sleep_hour = pd.get_dummies(df.sleep_hour, prefix='sleep_hour')\n",
        "labels = pd.get_dummies(df.Mood_prediction, prefix='condition')"
      ],
      "execution_count": null,
      "outputs": []
    },
    {
      "cell_type": "code",
      "metadata": {
        "id": "v1vcS7tqg2bL"
      },
      "source": [
        "X = pd.concat([gender,N1,N2,N5,N6,N8,N9,N10,A9,C9,concentration,tiredeness,sleep_hour] , axis=1)"
      ],
      "execution_count": null,
      "outputs": []
    },
    {
      "cell_type": "code",
      "metadata": {
        "colab": {
          "base_uri": "https://localhost:8080/",
          "height": 206
        },
        "id": "S7a_gvvphUg8",
        "outputId": "f122cd7d-0655-4843-e297-baa0cd7f4ded"
      },
      "source": [
        "labels.head()"
      ],
      "execution_count": null,
      "outputs": [
        {
          "output_type": "execute_result",
          "data": {
            "text/plain": [
              "   condition_0  condition_1\n",
              "0            0            1\n",
              "1            1            0\n",
              "2            1            0\n",
              "3            1            0\n",
              "4            1            0"
            ],
            "text/html": [
              "\n",
              "  <div id=\"df-9043844e-345e-46ed-8068-6eaf35ada975\">\n",
              "    <div class=\"colab-df-container\">\n",
              "      <div>\n",
              "<style scoped>\n",
              "    .dataframe tbody tr th:only-of-type {\n",
              "        vertical-align: middle;\n",
              "    }\n",
              "\n",
              "    .dataframe tbody tr th {\n",
              "        vertical-align: top;\n",
              "    }\n",
              "\n",
              "    .dataframe thead th {\n",
              "        text-align: right;\n",
              "    }\n",
              "</style>\n",
              "<table border=\"1\" class=\"dataframe\">\n",
              "  <thead>\n",
              "    <tr style=\"text-align: right;\">\n",
              "      <th></th>\n",
              "      <th>condition_0</th>\n",
              "      <th>condition_1</th>\n",
              "    </tr>\n",
              "  </thead>\n",
              "  <tbody>\n",
              "    <tr>\n",
              "      <th>0</th>\n",
              "      <td>0</td>\n",
              "      <td>1</td>\n",
              "    </tr>\n",
              "    <tr>\n",
              "      <th>1</th>\n",
              "      <td>1</td>\n",
              "      <td>0</td>\n",
              "    </tr>\n",
              "    <tr>\n",
              "      <th>2</th>\n",
              "      <td>1</td>\n",
              "      <td>0</td>\n",
              "    </tr>\n",
              "    <tr>\n",
              "      <th>3</th>\n",
              "      <td>1</td>\n",
              "      <td>0</td>\n",
              "    </tr>\n",
              "    <tr>\n",
              "      <th>4</th>\n",
              "      <td>1</td>\n",
              "      <td>0</td>\n",
              "    </tr>\n",
              "  </tbody>\n",
              "</table>\n",
              "</div>\n",
              "      <button class=\"colab-df-convert\" onclick=\"convertToInteractive('df-9043844e-345e-46ed-8068-6eaf35ada975')\"\n",
              "              title=\"Convert this dataframe to an interactive table.\"\n",
              "              style=\"display:none;\">\n",
              "        \n",
              "  <svg xmlns=\"http://www.w3.org/2000/svg\" height=\"24px\"viewBox=\"0 0 24 24\"\n",
              "       width=\"24px\">\n",
              "    <path d=\"M0 0h24v24H0V0z\" fill=\"none\"/>\n",
              "    <path d=\"M18.56 5.44l.94 2.06.94-2.06 2.06-.94-2.06-.94-.94-2.06-.94 2.06-2.06.94zm-11 1L8.5 8.5l.94-2.06 2.06-.94-2.06-.94L8.5 2.5l-.94 2.06-2.06.94zm10 10l.94 2.06.94-2.06 2.06-.94-2.06-.94-.94-2.06-.94 2.06-2.06.94z\"/><path d=\"M17.41 7.96l-1.37-1.37c-.4-.4-.92-.59-1.43-.59-.52 0-1.04.2-1.43.59L10.3 9.45l-7.72 7.72c-.78.78-.78 2.05 0 2.83L4 21.41c.39.39.9.59 1.41.59.51 0 1.02-.2 1.41-.59l7.78-7.78 2.81-2.81c.8-.78.8-2.07 0-2.86zM5.41 20L4 18.59l7.72-7.72 1.47 1.35L5.41 20z\"/>\n",
              "  </svg>\n",
              "      </button>\n",
              "      \n",
              "  <style>\n",
              "    .colab-df-container {\n",
              "      display:flex;\n",
              "      flex-wrap:wrap;\n",
              "      gap: 12px;\n",
              "    }\n",
              "\n",
              "    .colab-df-convert {\n",
              "      background-color: #E8F0FE;\n",
              "      border: none;\n",
              "      border-radius: 50%;\n",
              "      cursor: pointer;\n",
              "      display: none;\n",
              "      fill: #1967D2;\n",
              "      height: 32px;\n",
              "      padding: 0 0 0 0;\n",
              "      width: 32px;\n",
              "    }\n",
              "\n",
              "    .colab-df-convert:hover {\n",
              "      background-color: #E2EBFA;\n",
              "      box-shadow: 0px 1px 2px rgba(60, 64, 67, 0.3), 0px 1px 3px 1px rgba(60, 64, 67, 0.15);\n",
              "      fill: #174EA6;\n",
              "    }\n",
              "\n",
              "    [theme=dark] .colab-df-convert {\n",
              "      background-color: #3B4455;\n",
              "      fill: #D2E3FC;\n",
              "    }\n",
              "\n",
              "    [theme=dark] .colab-df-convert:hover {\n",
              "      background-color: #434B5C;\n",
              "      box-shadow: 0px 1px 3px 1px rgba(0, 0, 0, 0.15);\n",
              "      filter: drop-shadow(0px 1px 2px rgba(0, 0, 0, 0.3));\n",
              "      fill: #FFFFFF;\n",
              "    }\n",
              "  </style>\n",
              "\n",
              "      <script>\n",
              "        const buttonEl =\n",
              "          document.querySelector('#df-9043844e-345e-46ed-8068-6eaf35ada975 button.colab-df-convert');\n",
              "        buttonEl.style.display =\n",
              "          google.colab.kernel.accessAllowed ? 'block' : 'none';\n",
              "\n",
              "        async function convertToInteractive(key) {\n",
              "          const element = document.querySelector('#df-9043844e-345e-46ed-8068-6eaf35ada975');\n",
              "          const dataTable =\n",
              "            await google.colab.kernel.invokeFunction('convertToInteractive',\n",
              "                                                     [key], {});\n",
              "          if (!dataTable) return;\n",
              "\n",
              "          const docLinkHtml = 'Like what you see? Visit the ' +\n",
              "            '<a target=\"_blank\" href=https://colab.research.google.com/notebooks/data_table.ipynb>data table notebook</a>'\n",
              "            + ' to learn more about interactive tables.';\n",
              "          element.innerHTML = '';\n",
              "          dataTable['output_type'] = 'display_data';\n",
              "          await google.colab.output.renderOutput(dataTable, element);\n",
              "          const docLink = document.createElement('div');\n",
              "          docLink.innerHTML = docLinkHtml;\n",
              "          element.appendChild(docLink);\n",
              "        }\n",
              "      </script>\n",
              "    </div>\n",
              "  </div>\n",
              "  "
            ]
          },
          "metadata": {},
          "execution_count": 9
        }
      ]
    },
    {
      "cell_type": "code",
      "metadata": {
        "id": "87PDHiSzhYdo"
      },
      "source": [
        "y = labels.values"
      ],
      "execution_count": null,
      "outputs": []
    },
    {
      "cell_type": "code",
      "metadata": {
        "id": "kz6cJBQrhebr"
      },
      "source": [
        "from sklearn.model_selection import train_test_split\n",
        "X_train, X_test, y_train, y_test = train_test_split(X, y, test_size=0.20, random_state=42)"
      ],
      "execution_count": null,
      "outputs": []
    },
    {
      "cell_type": "code",
      "metadata": {
        "id": "mfOFCBtnhwJt"
      },
      "source": [
        "X_train, X_val, y_train, y_val  = train_test_split(X_train, y_train, test_size=0.25, random_state=1) "
      ],
      "execution_count": null,
      "outputs": []
    },
    {
      "cell_type": "code",
      "metadata": {
        "id": "PZBRqsaIh_Yh"
      },
      "source": [
        "from tensorflow.keras.layers import Input, Dense, Activation,Dropout\n",
        "from tensorflow.keras.models import Model"
      ],
      "execution_count": null,
      "outputs": []
    },
    {
      "cell_type": "code",
      "metadata": {
        "id": "yjeWJVixiEeD"
      },
      "source": [
        "input_layer = Input(shape=(X.shape[1],))\n",
        "dense_layer_1 = Dense(15, activation='relu')(input_layer)\n",
        "dense_layer_2 = Dense(10, activation='relu')(dense_layer_1)\n",
        "output = Dense(y.shape[1], activation='softmax')(dense_layer_2)\n",
        "\n",
        "model = Model(inputs=input_layer, outputs=output)\n",
        "model.compile(loss='categorical_crossentropy', optimizer='adam', metrics=['acc'])"
      ],
      "execution_count": null,
      "outputs": []
    },
    {
      "cell_type": "code",
      "metadata": {
        "colab": {
          "base_uri": "https://localhost:8080/"
        },
        "id": "ewrYWt3KiGSM",
        "outputId": "661e6704-a896-44e6-a8d5-633b5778b738"
      },
      "source": [
        "print(model.summary())"
      ],
      "execution_count": null,
      "outputs": [
        {
          "output_type": "stream",
          "name": "stdout",
          "text": [
            "Model: \"model\"\n",
            "_________________________________________________________________\n",
            " Layer (type)                Output Shape              Param #   \n",
            "=================================================================\n",
            " input_1 (InputLayer)        [(None, 425)]             0         \n",
            "                                                                 \n",
            " dense (Dense)               (None, 15)                6390      \n",
            "                                                                 \n",
            " dense_1 (Dense)             (None, 10)                160       \n",
            "                                                                 \n",
            " dense_2 (Dense)             (None, 2)                 22        \n",
            "                                                                 \n",
            "=================================================================\n",
            "Total params: 6,572\n",
            "Trainable params: 6,572\n",
            "Non-trainable params: 0\n",
            "_________________________________________________________________\n",
            "None\n"
          ]
        }
      ]
    },
    {
      "cell_type": "code",
      "metadata": {
        "colab": {
          "base_uri": "https://localhost:8080/"
        },
        "id": "cSCFR0kIiLBt",
        "outputId": "48e8aee1-45a0-4208-f954-d78e84342f43"
      },
      "source": [
        "history = model.fit(X_train, y_train, batch_size=8, epochs=50, verbose=1, validation_split=0.2)"
      ],
      "execution_count": null,
      "outputs": [
        {
          "output_type": "stream",
          "name": "stdout",
          "text": [
            "Epoch 1/50\n",
            "1183/1183 [==============================] - 4s 3ms/step - loss: 5.0966e-06 - acc: 1.0000 - val_loss: 0.0011 - val_acc: 0.9996\n",
            "Epoch 2/50\n",
            "1183/1183 [==============================] - 3s 3ms/step - loss: 2.2455e-06 - acc: 1.0000 - val_loss: 9.9152e-04 - val_acc: 0.9996\n",
            "Epoch 3/50\n",
            "1183/1183 [==============================] - 3s 2ms/step - loss: 1.5113e-06 - acc: 1.0000 - val_loss: 9.5771e-04 - val_acc: 0.9996\n",
            "Epoch 4/50\n",
            "1183/1183 [==============================] - 2s 2ms/step - loss: 1.0848e-06 - acc: 1.0000 - val_loss: 8.7166e-04 - val_acc: 0.9996\n",
            "Epoch 5/50\n",
            "1183/1183 [==============================] - 3s 2ms/step - loss: 8.0071e-07 - acc: 1.0000 - val_loss: 5.5362e-04 - val_acc: 0.9996\n",
            "Epoch 6/50\n",
            "1183/1183 [==============================] - 3s 3ms/step - loss: 4.8211e-07 - acc: 1.0000 - val_loss: 4.4859e-04 - val_acc: 1.0000\n",
            "Epoch 7/50\n",
            "1183/1183 [==============================] - 3s 2ms/step - loss: 3.2013e-07 - acc: 1.0000 - val_loss: 3.2859e-04 - val_acc: 1.0000\n",
            "Epoch 8/50\n",
            "1183/1183 [==============================] - 2s 2ms/step - loss: 2.1412e-07 - acc: 1.0000 - val_loss: 2.8337e-04 - val_acc: 1.0000\n",
            "Epoch 9/50\n",
            "1183/1183 [==============================] - 2s 2ms/step - loss: 1.4402e-07 - acc: 1.0000 - val_loss: 2.1452e-04 - val_acc: 1.0000\n",
            "Epoch 10/50\n",
            "1183/1183 [==============================] - 3s 2ms/step - loss: 9.1888e-08 - acc: 1.0000 - val_loss: 2.0018e-04 - val_acc: 1.0000\n",
            "Epoch 11/50\n",
            "1183/1183 [==============================] - 4s 3ms/step - loss: 6.0763e-08 - acc: 1.0000 - val_loss: 2.3198e-04 - val_acc: 1.0000\n",
            "Epoch 12/50\n",
            "1183/1183 [==============================] - 3s 2ms/step - loss: 4.1479e-08 - acc: 1.0000 - val_loss: 1.1869e-04 - val_acc: 1.0000\n",
            "Epoch 13/50\n",
            "1183/1183 [==============================] - 2s 2ms/step - loss: 2.7674e-08 - acc: 1.0000 - val_loss: 1.1157e-04 - val_acc: 1.0000\n",
            "Epoch 14/50\n",
            "1183/1183 [==============================] - 2s 2ms/step - loss: 1.9247e-08 - acc: 1.0000 - val_loss: 2.3164e-05 - val_acc: 1.0000\n",
            "Epoch 15/50\n",
            "1183/1183 [==============================] - 3s 3ms/step - loss: 1.2332e-08 - acc: 1.0000 - val_loss: 1.4231e-05 - val_acc: 1.0000\n",
            "Epoch 16/50\n",
            "1183/1183 [==============================] - 3s 2ms/step - loss: 9.0566e-09 - acc: 1.0000 - val_loss: 5.8472e-06 - val_acc: 1.0000\n",
            "Epoch 17/50\n",
            "1183/1183 [==============================] - 3s 2ms/step - loss: 6.2854e-09 - acc: 1.0000 - val_loss: 4.2775e-06 - val_acc: 1.0000\n",
            "Epoch 18/50\n",
            "1183/1183 [==============================] - 3s 2ms/step - loss: 4.2827e-09 - acc: 1.0000 - val_loss: 1.5481e-06 - val_acc: 1.0000\n",
            "Epoch 19/50\n",
            "1183/1183 [==============================] - 3s 2ms/step - loss: 2.5066e-09 - acc: 1.0000 - val_loss: 7.4573e-07 - val_acc: 1.0000\n",
            "Epoch 20/50\n",
            "1183/1183 [==============================] - 4s 3ms/step - loss: 1.2974e-09 - acc: 1.0000 - val_loss: 4.1434e-07 - val_acc: 1.0000\n",
            "Epoch 21/50\n",
            "1183/1183 [==============================] - 3s 2ms/step - loss: 1.4863e-09 - acc: 1.0000 - val_loss: 5.7159e-07 - val_acc: 1.0000\n",
            "Epoch 22/50\n",
            "1183/1183 [==============================] - 3s 2ms/step - loss: 5.5423e-10 - acc: 1.0000 - val_loss: 7.3608e-07 - val_acc: 1.0000\n",
            "Epoch 23/50\n",
            "1183/1183 [==============================] - 2s 2ms/step - loss: 4.0307e-10 - acc: 1.0000 - val_loss: 5.1395e-07 - val_acc: 1.0000\n",
            "Epoch 24/50\n",
            "1183/1183 [==============================] - 3s 3ms/step - loss: 2.3933e-10 - acc: 1.0000 - val_loss: 5.5749e-08 - val_acc: 1.0000\n",
            "Epoch 25/50\n",
            "1183/1183 [==============================] - 3s 2ms/step - loss: 0.0000e+00 - acc: 1.0000 - val_loss: 4.4418e-08 - val_acc: 1.0000\n",
            "Epoch 26/50\n",
            "1183/1183 [==============================] - 2s 2ms/step - loss: 0.0000e+00 - acc: 1.0000 - val_loss: 3.9181e-08 - val_acc: 1.0000\n",
            "Epoch 27/50\n",
            "1183/1183 [==============================] - 2s 2ms/step - loss: 0.0000e+00 - acc: 1.0000 - val_loss: 2.2965e-08 - val_acc: 1.0000\n",
            "Epoch 28/50\n",
            "1183/1183 [==============================] - 3s 2ms/step - loss: 0.0000e+00 - acc: 1.0000 - val_loss: 2.2864e-08 - val_acc: 1.0000\n",
            "Epoch 29/50\n",
            "1183/1183 [==============================] - 4s 3ms/step - loss: 0.0000e+00 - acc: 1.0000 - val_loss: 2.2361e-08 - val_acc: 1.0000\n",
            "Epoch 30/50\n",
            "1183/1183 [==============================] - 2s 2ms/step - loss: 0.0000e+00 - acc: 1.0000 - val_loss: 1.6267e-08 - val_acc: 1.0000\n",
            "Epoch 31/50\n",
            "1183/1183 [==============================] - 3s 2ms/step - loss: 0.0000e+00 - acc: 1.0000 - val_loss: 1.3145e-08 - val_acc: 1.0000\n",
            "Epoch 32/50\n",
            "1183/1183 [==============================] - 2s 2ms/step - loss: 0.0000e+00 - acc: 1.0000 - val_loss: 1.2893e-08 - val_acc: 1.0000\n",
            "Epoch 33/50\n",
            "1183/1183 [==============================] - 3s 3ms/step - loss: 0.0000e+00 - acc: 1.0000 - val_loss: 1.2792e-08 - val_acc: 1.0000\n",
            "Epoch 34/50\n",
            "1183/1183 [==============================] - 3s 3ms/step - loss: 0.0000e+00 - acc: 1.0000 - val_loss: 1.2238e-08 - val_acc: 1.0000\n",
            "Epoch 35/50\n",
            "1183/1183 [==============================] - 3s 2ms/step - loss: 0.0000e+00 - acc: 1.0000 - val_loss: 1.4303e-08 - val_acc: 1.0000\n",
            "Epoch 36/50\n",
            "1183/1183 [==============================] - 3s 2ms/step - loss: 0.0000e+00 - acc: 1.0000 - val_loss: 9.8711e-09 - val_acc: 1.0000\n",
            "Epoch 37/50\n",
            "1183/1183 [==============================] - 3s 2ms/step - loss: 0.0000e+00 - acc: 1.0000 - val_loss: 1.0224e-08 - val_acc: 1.0000\n",
            "Epoch 38/50\n",
            "1183/1183 [==============================] - 4s 3ms/step - loss: 0.0000e+00 - acc: 1.0000 - val_loss: 1.0778e-08 - val_acc: 1.0000\n",
            "Epoch 39/50\n",
            "1183/1183 [==============================] - 3s 2ms/step - loss: 0.0000e+00 - acc: 1.0000 - val_loss: 8.7127e-09 - val_acc: 1.0000\n",
            "Epoch 40/50\n",
            "1183/1183 [==============================] - 3s 2ms/step - loss: 0.0000e+00 - acc: 1.0000 - val_loss: 8.0580e-09 - val_acc: 1.0000\n",
            "Epoch 41/50\n",
            "1183/1183 [==============================] - 3s 2ms/step - loss: 0.0000e+00 - acc: 1.0000 - val_loss: 7.4537e-09 - val_acc: 1.0000\n",
            "Epoch 42/50\n",
            "1183/1183 [==============================] - 3s 3ms/step - loss: 0.0000e+00 - acc: 1.0000 - val_loss: 7.6551e-09 - val_acc: 1.0000\n",
            "Epoch 43/50\n",
            "1183/1183 [==============================] - 3s 3ms/step - loss: 0.0000e+00 - acc: 1.0000 - val_loss: 7.4537e-09 - val_acc: 1.0000\n",
            "Epoch 44/50\n",
            "1183/1183 [==============================] - 3s 2ms/step - loss: 0.0000e+00 - acc: 1.0000 - val_loss: 7.5544e-09 - val_acc: 1.0000\n",
            "Epoch 45/50\n",
            "1183/1183 [==============================] - 3s 2ms/step - loss: 0.0000e+00 - acc: 1.0000 - val_loss: 7.4033e-09 - val_acc: 1.0000\n",
            "Epoch 46/50\n",
            "1183/1183 [==============================] - 3s 3ms/step - loss: 0.0000e+00 - acc: 1.0000 - val_loss: 7.2019e-09 - val_acc: 1.0000\n",
            "Epoch 47/50\n",
            "1183/1183 [==============================] - 4s 3ms/step - loss: 0.0000e+00 - acc: 1.0000 - val_loss: 6.4464e-09 - val_acc: 1.0000\n",
            "Epoch 48/50\n",
            "1183/1183 [==============================] - 3s 2ms/step - loss: 0.0000e+00 - acc: 1.0000 - val_loss: 5.6406e-09 - val_acc: 1.0000\n",
            "Epoch 49/50\n",
            "1183/1183 [==============================] - 3s 2ms/step - loss: 0.0000e+00 - acc: 1.0000 - val_loss: 5.7917e-09 - val_acc: 1.0000\n",
            "Epoch 50/50\n",
            "1183/1183 [==============================] - 3s 2ms/step - loss: 0.0000e+00 - acc: 1.0000 - val_loss: 5.8924e-09 - val_acc: 1.0000\n"
          ]
        }
      ]
    },
    {
      "cell_type": "code",
      "metadata": {
        "colab": {
          "base_uri": "https://localhost:8080/"
        },
        "id": "ze5-nNRKkWKS",
        "outputId": "37989279-7b51-4e2c-ae9a-66e0e0854eb5"
      },
      "source": [
        "converter = tf.lite.TFLiteConverter.from_keras_model(model)\n",
        "tflite_model = converter.convert()\n"
      ],
      "execution_count": null,
      "outputs": [
        {
          "output_type": "stream",
          "name": "stderr",
          "text": [
            "WARNING:absl:Found untraced functions such as _update_step_xla while saving (showing 1 of 1). These functions will not be directly callable after loading.\n"
          ]
        }
      ]
    },
    {
      "cell_type": "code",
      "metadata": {
        "id": "zEF1J4VlkZIY"
      },
      "source": [
        "with open('model.tflite', 'wb') as f:\n",
        "  f.write(tflite_model)"
      ],
      "execution_count": null,
      "outputs": []
    },
    {
      "cell_type": "code",
      "metadata": {
        "colab": {
          "base_uri": "https://localhost:8080/",
          "height": 39
        },
        "id": "KHdLCoHgnPdW",
        "outputId": "e9af1a12-c416-4b80-9d2f-0ae3ca19caef"
      },
      "source": [
        "from google.colab import files\n",
        "pbfile = files.upload()"
      ],
      "execution_count": null,
      "outputs": [
        {
          "output_type": "display_data",
          "data": {
            "text/plain": [
              "<IPython.core.display.HTML object>"
            ],
            "text/html": [
              "\n",
              "     <input type=\"file\" id=\"files-e50784bb-e99b-4830-9a4f-a1611a129abd\" name=\"files[]\" multiple disabled\n",
              "        style=\"border:none\" />\n",
              "     <output id=\"result-e50784bb-e99b-4830-9a4f-a1611a129abd\">\n",
              "      Upload widget is only available when the cell has been executed in the\n",
              "      current browser session. Please rerun this cell to enable.\n",
              "      </output>\n",
              "      <script>// Copyright 2017 Google LLC\n",
              "//\n",
              "// Licensed under the Apache License, Version 2.0 (the \"License\");\n",
              "// you may not use this file except in compliance with the License.\n",
              "// You may obtain a copy of the License at\n",
              "//\n",
              "//      http://www.apache.org/licenses/LICENSE-2.0\n",
              "//\n",
              "// Unless required by applicable law or agreed to in writing, software\n",
              "// distributed under the License is distributed on an \"AS IS\" BASIS,\n",
              "// WITHOUT WARRANTIES OR CONDITIONS OF ANY KIND, either express or implied.\n",
              "// See the License for the specific language governing permissions and\n",
              "// limitations under the License.\n",
              "\n",
              "/**\n",
              " * @fileoverview Helpers for google.colab Python module.\n",
              " */\n",
              "(function(scope) {\n",
              "function span(text, styleAttributes = {}) {\n",
              "  const element = document.createElement('span');\n",
              "  element.textContent = text;\n",
              "  for (const key of Object.keys(styleAttributes)) {\n",
              "    element.style[key] = styleAttributes[key];\n",
              "  }\n",
              "  return element;\n",
              "}\n",
              "\n",
              "// Max number of bytes which will be uploaded at a time.\n",
              "const MAX_PAYLOAD_SIZE = 100 * 1024;\n",
              "\n",
              "function _uploadFiles(inputId, outputId) {\n",
              "  const steps = uploadFilesStep(inputId, outputId);\n",
              "  const outputElement = document.getElementById(outputId);\n",
              "  // Cache steps on the outputElement to make it available for the next call\n",
              "  // to uploadFilesContinue from Python.\n",
              "  outputElement.steps = steps;\n",
              "\n",
              "  return _uploadFilesContinue(outputId);\n",
              "}\n",
              "\n",
              "// This is roughly an async generator (not supported in the browser yet),\n",
              "// where there are multiple asynchronous steps and the Python side is going\n",
              "// to poll for completion of each step.\n",
              "// This uses a Promise to block the python side on completion of each step,\n",
              "// then passes the result of the previous step as the input to the next step.\n",
              "function _uploadFilesContinue(outputId) {\n",
              "  const outputElement = document.getElementById(outputId);\n",
              "  const steps = outputElement.steps;\n",
              "\n",
              "  const next = steps.next(outputElement.lastPromiseValue);\n",
              "  return Promise.resolve(next.value.promise).then((value) => {\n",
              "    // Cache the last promise value to make it available to the next\n",
              "    // step of the generator.\n",
              "    outputElement.lastPromiseValue = value;\n",
              "    return next.value.response;\n",
              "  });\n",
              "}\n",
              "\n",
              "/**\n",
              " * Generator function which is called between each async step of the upload\n",
              " * process.\n",
              " * @param {string} inputId Element ID of the input file picker element.\n",
              " * @param {string} outputId Element ID of the output display.\n",
              " * @return {!Iterable<!Object>} Iterable of next steps.\n",
              " */\n",
              "function* uploadFilesStep(inputId, outputId) {\n",
              "  const inputElement = document.getElementById(inputId);\n",
              "  inputElement.disabled = false;\n",
              "\n",
              "  const outputElement = document.getElementById(outputId);\n",
              "  outputElement.innerHTML = '';\n",
              "\n",
              "  const pickedPromise = new Promise((resolve) => {\n",
              "    inputElement.addEventListener('change', (e) => {\n",
              "      resolve(e.target.files);\n",
              "    });\n",
              "  });\n",
              "\n",
              "  const cancel = document.createElement('button');\n",
              "  inputElement.parentElement.appendChild(cancel);\n",
              "  cancel.textContent = 'Cancel upload';\n",
              "  const cancelPromise = new Promise((resolve) => {\n",
              "    cancel.onclick = () => {\n",
              "      resolve(null);\n",
              "    };\n",
              "  });\n",
              "\n",
              "  // Wait for the user to pick the files.\n",
              "  const files = yield {\n",
              "    promise: Promise.race([pickedPromise, cancelPromise]),\n",
              "    response: {\n",
              "      action: 'starting',\n",
              "    }\n",
              "  };\n",
              "\n",
              "  cancel.remove();\n",
              "\n",
              "  // Disable the input element since further picks are not allowed.\n",
              "  inputElement.disabled = true;\n",
              "\n",
              "  if (!files) {\n",
              "    return {\n",
              "      response: {\n",
              "        action: 'complete',\n",
              "      }\n",
              "    };\n",
              "  }\n",
              "\n",
              "  for (const file of files) {\n",
              "    const li = document.createElement('li');\n",
              "    li.append(span(file.name, {fontWeight: 'bold'}));\n",
              "    li.append(span(\n",
              "        `(${file.type || 'n/a'}) - ${file.size} bytes, ` +\n",
              "        `last modified: ${\n",
              "            file.lastModifiedDate ? file.lastModifiedDate.toLocaleDateString() :\n",
              "                                    'n/a'} - `));\n",
              "    const percent = span('0% done');\n",
              "    li.appendChild(percent);\n",
              "\n",
              "    outputElement.appendChild(li);\n",
              "\n",
              "    const fileDataPromise = new Promise((resolve) => {\n",
              "      const reader = new FileReader();\n",
              "      reader.onload = (e) => {\n",
              "        resolve(e.target.result);\n",
              "      };\n",
              "      reader.readAsArrayBuffer(file);\n",
              "    });\n",
              "    // Wait for the data to be ready.\n",
              "    let fileData = yield {\n",
              "      promise: fileDataPromise,\n",
              "      response: {\n",
              "        action: 'continue',\n",
              "      }\n",
              "    };\n",
              "\n",
              "    // Use a chunked sending to avoid message size limits. See b/62115660.\n",
              "    let position = 0;\n",
              "    do {\n",
              "      const length = Math.min(fileData.byteLength - position, MAX_PAYLOAD_SIZE);\n",
              "      const chunk = new Uint8Array(fileData, position, length);\n",
              "      position += length;\n",
              "\n",
              "      const base64 = btoa(String.fromCharCode.apply(null, chunk));\n",
              "      yield {\n",
              "        response: {\n",
              "          action: 'append',\n",
              "          file: file.name,\n",
              "          data: base64,\n",
              "        },\n",
              "      };\n",
              "\n",
              "      let percentDone = fileData.byteLength === 0 ?\n",
              "          100 :\n",
              "          Math.round((position / fileData.byteLength) * 100);\n",
              "      percent.textContent = `${percentDone}% done`;\n",
              "\n",
              "    } while (position < fileData.byteLength);\n",
              "  }\n",
              "\n",
              "  // All done.\n",
              "  yield {\n",
              "    response: {\n",
              "      action: 'complete',\n",
              "    }\n",
              "  };\n",
              "}\n",
              "\n",
              "scope.google = scope.google || {};\n",
              "scope.google.colab = scope.google.colab || {};\n",
              "scope.google.colab._files = {\n",
              "  _uploadFiles,\n",
              "  _uploadFilesContinue,\n",
              "};\n",
              "})(self);\n",
              "</script> "
            ]
          },
          "metadata": {}
        }
      ]
    },
    {
      "cell_type": "code",
      "metadata": {
        "id": "frv1WGuWnUD3"
      },
      "source": [],
      "execution_count": null,
      "outputs": []
    },
    {
      "cell_type": "code",
      "metadata": {
        "id": "sf46Hlntl9li"
      },
      "source": [
        "tflite_file = 'model.tflite'\n",
        "interpreter = tf.lite.Interpreter(model_content=tflite_model)\n",
        "interpreter.allocate_tensors()"
      ],
      "execution_count": null,
      "outputs": []
    },
    {
      "cell_type": "code",
      "metadata": {
        "colab": {
          "base_uri": "https://localhost:8080/",
          "height": 17
        },
        "id": "H2ThVoBZna7R",
        "outputId": "a010dec1-208b-48da-f4a9-8162e49d4a88"
      },
      "source": [
        "files.download(tflite_file)"
      ],
      "execution_count": null,
      "outputs": [
        {
          "output_type": "display_data",
          "data": {
            "text/plain": [
              "<IPython.core.display.Javascript object>"
            ],
            "application/javascript": [
              "\n",
              "    async function download(id, filename, size) {\n",
              "      if (!google.colab.kernel.accessAllowed) {\n",
              "        return;\n",
              "      }\n",
              "      const div = document.createElement('div');\n",
              "      const label = document.createElement('label');\n",
              "      label.textContent = `Downloading \"${filename}\": `;\n",
              "      div.appendChild(label);\n",
              "      const progress = document.createElement('progress');\n",
              "      progress.max = size;\n",
              "      div.appendChild(progress);\n",
              "      document.body.appendChild(div);\n",
              "\n",
              "      const buffers = [];\n",
              "      let downloaded = 0;\n",
              "\n",
              "      const channel = await google.colab.kernel.comms.open(id);\n",
              "      // Send a message to notify the kernel that we're ready.\n",
              "      channel.send({})\n",
              "\n",
              "      for await (const message of channel.messages) {\n",
              "        // Send a message to notify the kernel that we're ready.\n",
              "        channel.send({})\n",
              "        if (message.buffers) {\n",
              "          for (const buffer of message.buffers) {\n",
              "            buffers.push(buffer);\n",
              "            downloaded += buffer.byteLength;\n",
              "            progress.value = downloaded;\n",
              "          }\n",
              "        }\n",
              "      }\n",
              "      const blob = new Blob(buffers, {type: 'application/binary'});\n",
              "      const a = document.createElement('a');\n",
              "      a.href = window.URL.createObjectURL(blob);\n",
              "      a.download = filename;\n",
              "      div.appendChild(a);\n",
              "      a.click();\n",
              "      div.remove();\n",
              "    }\n",
              "  "
            ]
          },
          "metadata": {}
        },
        {
          "output_type": "display_data",
          "data": {
            "text/plain": [
              "<IPython.core.display.Javascript object>"
            ],
            "application/javascript": [
              "download(\"download_3ebe2c15-3244-4ae3-81c3-b0022487433b\", \"model.tflite\", 28304)"
            ]
          },
          "metadata": {}
        }
      ]
    },
    {
      "cell_type": "code",
      "source": [
        "score = model.evaluate(X_test, y_test, verbose=1)\n",
        "print(\"Test Accuracy: {:.2f}%\".format(score[1] * 100))\n"
      ],
      "metadata": {
        "id": "1OqRuaAygm2k",
        "outputId": "d217a03b-175d-4cea-88ef-5ca26d3335d0",
        "colab": {
          "base_uri": "https://localhost:8080/"
        }
      },
      "execution_count": null,
      "outputs": [
        {
          "output_type": "stream",
          "name": "stdout",
          "text": [
            "124/124 [==============================] - 0s 2ms/step - loss: 2.4349e-06 - acc: 1.0000\n",
            "Test Accuracy: 100.00%\n"
          ]
        }
      ]
    },
    {
      "cell_type": "code",
      "source": [
        "import numpy as np\n",
        "\n",
        "# create a test input with the same format as the training data\n",
        "test_input = np.zeros((1, 425), dtype=np.float32)\n",
        "\n",
        "# set some values for the test input\n",
        "test_input[0, 0] = 1.0 # set gender to male\n",
        "test_input[0, 3] = 1.0 # set N5 to strongly agree\n",
        "test_input[0, 6] = 1.0 # set N8 to strongly agree\n",
        "test_input[0, 8] = 1.0 # set A9 to strongly disagree\n",
        "test_input[0, 11] = 1.0 # set lack of concentration to never\n",
        "test_input[0, 12] = 1.0 # set tiredness to never\n",
        "test_input[0, 13] = 1.0 # set sleep hour to 6-7\n",
        "\n",
        "# load the TFLite model and allocate tensors\n",
        "interpreter = tf.lite.Interpreter(model_path='model.tflite')\n",
        "interpreter.allocate_tensors()\n",
        "\n",
        "# get input and output tensors\n",
        "input_details = interpreter.get_input_details()\n",
        "output_details = interpreter.get_output_details()\n",
        "\n",
        "# set the input tensor\n",
        "interpreter.set_tensor(input_details[0]['index'], test_input)\n",
        "\n",
        "# run the inference\n",
        "interpreter.invoke()\n",
        "\n",
        "# get the output tensor and convert to probabilities\n",
        "output_data = interpreter.get_tensor(output_details[0]['index'])\n",
        "probabilities = tf.nn.softmax(output_data)\n",
        "\n",
        "# get the predicted class label\n",
        "predicted_class = np.argmax(probabilities)\n",
        "\n",
        "# print the predicted class label\n",
        "print(predicted_class)\n"
      ],
      "metadata": {
        "colab": {
          "base_uri": "https://localhost:8080/"
        },
        "id": "g5FMy4v2dtey",
        "outputId": "e973223f-8133-43da-f3cf-07ccd6289795"
      },
      "execution_count": null,
      "outputs": [
        {
          "output_type": "stream",
          "name": "stdout",
          "text": [
            "1\n"
          ]
        }
      ]
    },
    {
      "cell_type": "code",
      "source": [],
      "metadata": {
        "id": "mMqecL-ufNgK"
      },
      "execution_count": null,
      "outputs": []
    }
  ]
}